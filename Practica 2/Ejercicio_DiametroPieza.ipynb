{
 "cells": [
  {
   "cell_type": "markdown",
   "id": "dbd5f1a9",
   "metadata": {},
   "source": [
    "# Ejercicio: Obtener diámetro de pieza\n",
    " \n",
    "\n",
    "Para resolver el ejercicio hay que rellenar el código que falta en las celdas correspondientes. Responda también las preguntas del ejercicio."
   ]
  },
  {
   "cell_type": "markdown",
   "id": "c62d6977",
   "metadata": {},
   "source": [
    "## Instalación\n",
    "Instala las siguientes librerías con Anaconda Navigator (utiliza el entorno que creaste anteriormente):\n",
    "* pandas: _High-performance, easy-to-use structures and data analysis tools_.\n",
    "* plotly: _An interactive javascript-based visualization library for python_."
   ]
  },
  {
   "cell_type": "markdown",
   "id": "aa06f7e5",
   "metadata": {},
   "source": [
    "## Importa las librerías opencv, numpy, plotly y matplotlib"
   ]
  },
  {
   "cell_type": "code",
   "execution_count": null,
   "id": "56258fa0",
   "metadata": {},
   "outputs": [],
   "source": [
    "import \n",
    "import \n",
    "import plotly.express as px\n",
    "import"
   ]
  },
  {
   "cell_type": "markdown",
   "id": "a88f31a9",
   "metadata": {},
   "source": [
    "## Lee imagen CilindroRegla.jpg"
   ]
  },
  {
   "cell_type": "code",
   "execution_count": null,
   "id": "5d122c59",
   "metadata": {},
   "outputs": [],
   "source": [
    "img = "
   ]
  },
  {
   "cell_type": "markdown",
   "id": "6f6ff2d4",
   "metadata": {},
   "source": [
    "## Muestra la imagen con plotly"
   ]
  },
  {
   "cell_type": "code",
   "execution_count": null,
   "id": "8eba41e3",
   "metadata": {},
   "outputs": [],
   "source": [
    "fig = px.imshow(img, color_continuous_scale='gray')\n",
    "fig.show()"
   ]
  },
  {
   "cell_type": "markdown",
   "id": "86bb9707",
   "metadata": {},
   "source": [
    "## ¿Cuántos mm mide el lado de un píxel?"
   ]
  },
  {
   "cell_type": "markdown",
   "id": "339d1723",
   "metadata": {},
   "source": [
    "Pasos:\n",
    "1. Con la imagen interactiva de plotly (maximizar, mover imagen,...), obtén las coordenadas del extremo de la marca de 6 cm y de la marca de 14 cm. Crea un array de numpy por cada marca.\n",
    "\n",
    "Importante: Hay que esperar un poco en cada interacción con la figura.\n",
    "\n",
    "2. Obtén la distancia en píxeles entre estos dos extremos con la función de numpy [_linalg.norm_](https://numpy.org/doc/stable/reference/generated/numpy.linalg.norm.html).\n",
    "3. Calcula cuántos milímetros mide el lado de un píxel.\n",
    "\n",
    " "
   ]
  },
  {
   "cell_type": "code",
   "execution_count": null,
   "id": "97f6cf3c",
   "metadata": {},
   "outputs": [],
   "source": [
    "marca_6cm = \n",
    "marca_14cm = \n",
    "distancia_pixeles = \n",
    "mm_pixel = \n",
    "print(\"El lado de un píxel mide\""
   ]
  },
  {
   "cell_type": "markdown",
   "id": "8d98e2a2",
   "metadata": {},
   "source": [
    "## Diámetro del cilindro (en píxeles)\n",
    "\n",
    "La función de opencv [_HoughCircles_](https://docs.opencv.org/4.x/dd/d1a/group__imgproc__feature.html#ga47849c3be0d0406ad3ca45db65a25d2d) encuentra círculos en una imagen."
   ]
  },
  {
   "cell_type": "code",
   "execution_count": null,
   "id": "f1a4ff61",
   "metadata": {},
   "outputs": [],
   "source": [
    "circles = cv.HoughCircles(img, cv.HOUGH_GRADIENT_ALT, 1.5, img.shape[0] / 8, param1=100, param2=0.8)\n",
    "print(circles)"
   ]
  },
  {
   "cell_type": "markdown",
   "id": "e687f736",
   "metadata": {},
   "source": [
    "## Dibuja el círculo sobre la imagen\n",
    "\n",
    "Para comprobar que el diámetro del círculo se ha calculado correctamente, dibuja el círculo verde (grosor 50) sobre la imagen en RGB con matplotlib. \n",
    "\n",
    "IMPORTANTE:\n",
    "* Hay que transformar la imagen de BGR a RGB.\n",
    "* Para dibujar el círculo con _cv.circle_, hay que transformar el resultado de _HoughCircles_ a _int64_."
   ]
  },
  {
   "cell_type": "code",
   "execution_count": null,
   "id": "14026d86",
   "metadata": {},
   "outputs": [],
   "source": [
    "imgBGR = \n",
    "imgRGB = \n",
    "circlesInt = \n",
    "imgRGB = \n",
    "plt."
   ]
  },
  {
   "cell_type": "markdown",
   "id": "c27dd758",
   "metadata": {},
   "source": [
    "Modifica param1 (umbral más alto de los dos pasados al detector de bordes Canny, el umbral más bajo es dos veces más pequeño) y modifica param2 (cuando se utiliza el algoritmo cv.HOUGH_GRADIENT_ALT, param2 es la medida de \"perfección\" del círculo. Si el valor de param2 está cerca de 1, el algoritmo seleccionará círculos más perfectos).\n",
    "\n",
    "**¿Qué ocurre al cambiar estos parámetros?**\n",
    "\n",
    "\n",
    "\n",
    "Cuando hayas terminado con esta prueba, vuelve a ejecutar de cv.HoughCircles con los parametros iniciales (param1=100, param2=0.8)"
   ]
  },
  {
   "cell_type": "markdown",
   "id": "97c740b6",
   "metadata": {},
   "source": [
    "## Diámetro del cilindro (en mm) \n",
    "\n",
    "Calcula el diámetro del cilindro en mm."
   ]
  },
  {
   "cell_type": "code",
   "execution_count": null,
   "id": "a491c2f0",
   "metadata": {},
   "outputs": [],
   "source": [
    "print(\"El diámetro del círculo mide\", "
   ]
  },
  {
   "cell_type": "markdown",
   "id": "4eabf109",
   "metadata": {},
   "source": [
    "Referencia: Se ha medido el diámetro del cilindro con un calibre pie de rey y el resultado fue 28.62 mm."
   ]
  },
  {
   "cell_type": "markdown",
   "id": "f342be99",
   "metadata": {},
   "source": [
    "## Nueva medición del diámetro con CilindroReglaOtraAltura.jpg\n",
    "\n",
    "Repite los pasos anteriores con la imagen _CilindroReglaOtraAltura.jpg_. En cv.HoughCircles, cambia _param1_ a _250_."
   ]
  },
  {
   "cell_type": "code",
   "execution_count": null,
   "id": "208d6df9",
   "metadata": {},
   "outputs": [],
   "source": [
    "img = \n",
    "fig = \n",
    "fig."
   ]
  },
  {
   "cell_type": "code",
   "execution_count": null,
   "id": "b0c005f2",
   "metadata": {},
   "outputs": [],
   "source": [
    "marca_6cm =\n",
    "marca_14cm =\n",
    "distancia_pixeles =\n",
    "mm_pixel =\n",
    "print"
   ]
  },
  {
   "cell_type": "code",
   "execution_count": null,
   "id": "b552d951",
   "metadata": {},
   "outputs": [],
   "source": [
    "circles \n",
    "print(circles)\n",
    "imgBGR =\n",
    "imgRGB =\n",
    "circlesInt =\n",
    "imgRGB =\n",
    "plt."
   ]
  },
  {
   "cell_type": "code",
   "execution_count": null,
   "id": "9ade0d1e",
   "metadata": {},
   "outputs": [],
   "source": [
    "print(\"El diámetro del círculo mide\", "
   ]
  },
  {
   "cell_type": "markdown",
   "id": "91e17d21",
   "metadata": {},
   "source": [
    "**¿Por qué no coincide el diámetro del cilindro?**\n",
    "\n"
   ]
  },
  {
   "cell_type": "markdown",
   "id": "0540901e",
   "metadata": {},
   "source": [
    "## Nueva medición del diámetro con CilindroReglaOtraVista.jpg\n",
    "\n",
    "Repite los pasos anteriores con la imagen _CilindroReglaOtraVista.jpg_. En este caso mide los extremos de las marcas 8 cm y 15 cm de la regla (las más cercanas al cilindro). Además, en cv.HoughCircles, cambia _param1_ a _50_ y _param2_ a _0.25_."
   ]
  },
  {
   "cell_type": "code",
   "execution_count": null,
   "id": "5dd5a61c",
   "metadata": {},
   "outputs": [],
   "source": [
    "img = \n",
    "fig = \n",
    "fig."
   ]
  },
  {
   "cell_type": "code",
   "execution_count": null,
   "id": "c5d8fa36",
   "metadata": {},
   "outputs": [],
   "source": [
    "marca_8cm = \n",
    "marca_15cm = \n",
    "distancia_pixeles = \n",
    "mm_pixel = \n",
    "print(\"El lado de un píxel mide\", "
   ]
  },
  {
   "cell_type": "code",
   "execution_count": null,
   "id": "f149f10f",
   "metadata": {},
   "outputs": [],
   "source": [
    "circles = \n",
    "print(circles)\n",
    "imgBGR = \n",
    "imgRGB = \n",
    "circlesInt = \n",
    "imgRGB = \n",
    "plt."
   ]
  },
  {
   "cell_type": "code",
   "execution_count": null,
   "id": "e5aaf835",
   "metadata": {},
   "outputs": [],
   "source": [
    "print(\"El diámetro del cilindro mide\", "
   ]
  },
  {
   "cell_type": "markdown",
   "id": "eb8d78ae",
   "metadata": {},
   "source": [
    "**¿Está bien el diámetro que se obtiene? ¿Posibles razones?**"
   ]
  },
  {
   "cell_type": "code",
   "execution_count": null,
   "id": "7301f3f7",
   "metadata": {},
   "outputs": [],
   "source": []
  }
 ],
 "metadata": {
  "kernelspec": {
   "display_name": "Python 3 (ipykernel)",
   "language": "python",
   "name": "python3"
  },
  "language_info": {
   "codemirror_mode": {
    "name": "ipython",
    "version": 3
   },
   "file_extension": ".py",
   "mimetype": "text/x-python",
   "name": "python",
   "nbconvert_exporter": "python",
   "pygments_lexer": "ipython3",
   "version": "3.10.4"
  }
 },
 "nbformat": 4,
 "nbformat_minor": 5
}
